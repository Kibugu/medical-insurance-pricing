{
 "cells": [
  {
   "cell_type": "code",
   "execution_count": 1,
   "id": "133cc35d",
   "metadata": {
    "_cell_guid": "b1076dfc-b9ad-4769-8c92-a6c4dae69d19",
    "_uuid": "8f2839f25d086af736a60e9eeb907d3b93b6e0e5",
    "execution": {
     "iopub.execute_input": "2021-09-13T08:45:17.267392Z",
     "iopub.status.busy": "2021-09-13T08:45:17.266391Z",
     "iopub.status.idle": "2021-09-13T08:45:18.210512Z",
     "shell.execute_reply": "2021-09-13T08:45:18.209610Z",
     "shell.execute_reply.started": "2021-09-13T08:22:23.425927Z"
    },
    "papermill": {
     "duration": 0.993431,
     "end_time": "2021-09-13T08:45:18.210747",
     "exception": false,
     "start_time": "2021-09-13T08:45:17.217316",
     "status": "completed"
    },
    "tags": []
   },
   "outputs": [],
   "source": [
    "import numpy as np # linear algebra\n",
    "import pandas as pd # data processing, CSV file I/O (e.g. pd.read_csv)\n",
    "import matplotlib.pyplot as plt\n",
    "import seaborn as sns\n",
    "sns.set_theme(style='darkgrid')"
   ]
  },
  {
   "cell_type": "code",
   "execution_count": 2,
   "id": "ef77c39a",
   "metadata": {
    "execution": {
     "iopub.execute_input": "2021-09-13T08:45:18.288319Z",
     "iopub.status.busy": "2021-09-13T08:45:18.287655Z",
     "iopub.status.idle": "2021-09-13T08:45:18.302876Z",
     "shell.execute_reply": "2021-09-13T08:45:18.302275Z",
     "shell.execute_reply.started": "2021-09-13T08:22:23.484772Z"
    },
    "papermill": {
     "duration": 0.055573,
     "end_time": "2021-09-13T08:45:18.303042",
     "exception": false,
     "start_time": "2021-09-13T08:45:18.247469",
     "status": "completed"
    },
    "tags": []
   },
   "outputs": [],
   "source": [
    "df=pd.read_csv('Medicalpremium.csv')"
   ]
  },
  {
   "cell_type": "markdown",
   "id": "5322d873",
   "metadata": {
    "papermill": {
     "duration": 0.03651,
     "end_time": "2021-09-13T08:45:18.375619",
     "exception": false,
     "start_time": "2021-09-13T08:45:18.339109",
     "status": "completed"
    },
    "tags": []
   },
   "source": [
    "# Exploring dataset"
   ]
  },
  {
   "cell_type": "code",
   "execution_count": 3,
   "id": "9d358b39",
   "metadata": {
    "execution": {
     "iopub.execute_input": "2021-09-13T08:45:18.460883Z",
     "iopub.status.busy": "2021-09-13T08:45:18.460212Z",
     "iopub.status.idle": "2021-09-13T08:45:18.478668Z",
     "shell.execute_reply": "2021-09-13T08:45:18.479214Z",
     "shell.execute_reply.started": "2021-09-13T08:22:23.533351Z"
    },
    "papermill": {
     "duration": 0.067706,
     "end_time": "2021-09-13T08:45:18.479389",
     "exception": false,
     "start_time": "2021-09-13T08:45:18.411683",
     "status": "completed"
    },
    "tags": []
   },
   "outputs": [
    {
     "data": {
      "text/html": [
       "<div>\n",
       "<style scoped>\n",
       "    .dataframe tbody tr th:only-of-type {\n",
       "        vertical-align: middle;\n",
       "    }\n",
       "\n",
       "    .dataframe tbody tr th {\n",
       "        vertical-align: top;\n",
       "    }\n",
       "\n",
       "    .dataframe thead th {\n",
       "        text-align: right;\n",
       "    }\n",
       "</style>\n",
       "<table border=\"1\" class=\"dataframe\">\n",
       "  <thead>\n",
       "    <tr style=\"text-align: right;\">\n",
       "      <th></th>\n",
       "      <th>Age</th>\n",
       "      <th>Diabetes</th>\n",
       "      <th>BloodPressureProblems</th>\n",
       "      <th>AnyTransplants</th>\n",
       "      <th>AnyChronicDiseases</th>\n",
       "      <th>Height</th>\n",
       "      <th>Weight</th>\n",
       "      <th>KnownAllergies</th>\n",
       "      <th>HistoryOfCancerInFamily</th>\n",
       "      <th>NumberOfMajorSurgeries</th>\n",
       "      <th>PremiumPrice</th>\n",
       "    </tr>\n",
       "  </thead>\n",
       "  <tbody>\n",
       "    <tr>\n",
       "      <th>0</th>\n",
       "      <td>45</td>\n",
       "      <td>0</td>\n",
       "      <td>0</td>\n",
       "      <td>0</td>\n",
       "      <td>0</td>\n",
       "      <td>155</td>\n",
       "      <td>57</td>\n",
       "      <td>0</td>\n",
       "      <td>0</td>\n",
       "      <td>0</td>\n",
       "      <td>25000</td>\n",
       "    </tr>\n",
       "    <tr>\n",
       "      <th>1</th>\n",
       "      <td>60</td>\n",
       "      <td>1</td>\n",
       "      <td>0</td>\n",
       "      <td>0</td>\n",
       "      <td>0</td>\n",
       "      <td>180</td>\n",
       "      <td>73</td>\n",
       "      <td>0</td>\n",
       "      <td>0</td>\n",
       "      <td>0</td>\n",
       "      <td>29000</td>\n",
       "    </tr>\n",
       "    <tr>\n",
       "      <th>2</th>\n",
       "      <td>36</td>\n",
       "      <td>1</td>\n",
       "      <td>1</td>\n",
       "      <td>0</td>\n",
       "      <td>0</td>\n",
       "      <td>158</td>\n",
       "      <td>59</td>\n",
       "      <td>0</td>\n",
       "      <td>0</td>\n",
       "      <td>1</td>\n",
       "      <td>23000</td>\n",
       "    </tr>\n",
       "    <tr>\n",
       "      <th>3</th>\n",
       "      <td>52</td>\n",
       "      <td>1</td>\n",
       "      <td>1</td>\n",
       "      <td>0</td>\n",
       "      <td>1</td>\n",
       "      <td>183</td>\n",
       "      <td>93</td>\n",
       "      <td>0</td>\n",
       "      <td>0</td>\n",
       "      <td>2</td>\n",
       "      <td>28000</td>\n",
       "    </tr>\n",
       "    <tr>\n",
       "      <th>4</th>\n",
       "      <td>38</td>\n",
       "      <td>0</td>\n",
       "      <td>0</td>\n",
       "      <td>0</td>\n",
       "      <td>1</td>\n",
       "      <td>166</td>\n",
       "      <td>88</td>\n",
       "      <td>0</td>\n",
       "      <td>0</td>\n",
       "      <td>1</td>\n",
       "      <td>23000</td>\n",
       "    </tr>\n",
       "  </tbody>\n",
       "</table>\n",
       "</div>"
      ],
      "text/plain": [
       "   Age  Diabetes  BloodPressureProblems  AnyTransplants  AnyChronicDiseases  \\\n",
       "0   45         0                      0               0                   0   \n",
       "1   60         1                      0               0                   0   \n",
       "2   36         1                      1               0                   0   \n",
       "3   52         1                      1               0                   1   \n",
       "4   38         0                      0               0                   1   \n",
       "\n",
       "   Height  Weight  KnownAllergies  HistoryOfCancerInFamily  \\\n",
       "0     155      57               0                        0   \n",
       "1     180      73               0                        0   \n",
       "2     158      59               0                        0   \n",
       "3     183      93               0                        0   \n",
       "4     166      88               0                        0   \n",
       "\n",
       "   NumberOfMajorSurgeries  PremiumPrice  \n",
       "0                       0         25000  \n",
       "1                       0         29000  \n",
       "2                       1         23000  \n",
       "3                       2         28000  \n",
       "4                       1         23000  "
      ]
     },
     "execution_count": 3,
     "metadata": {},
     "output_type": "execute_result"
    }
   ],
   "source": [
    "df.head()"
   ]
  },
  {
   "cell_type": "code",
   "execution_count": 4,
   "id": "9626d15f",
   "metadata": {
    "execution": {
     "iopub.execute_input": "2021-09-13T08:45:18.557164Z",
     "iopub.status.busy": "2021-09-13T08:45:18.556470Z",
     "iopub.status.idle": "2021-09-13T08:45:18.601393Z",
     "shell.execute_reply": "2021-09-13T08:45:18.601900Z",
     "shell.execute_reply.started": "2021-09-13T08:22:23.573211Z"
    },
    "papermill": {
     "duration": 0.085147,
     "end_time": "2021-09-13T08:45:18.602094",
     "exception": false,
     "start_time": "2021-09-13T08:45:18.516947",
     "status": "completed"
    },
    "tags": []
   },
   "outputs": [
    {
     "data": {
      "text/html": [
       "<div>\n",
       "<style scoped>\n",
       "    .dataframe tbody tr th:only-of-type {\n",
       "        vertical-align: middle;\n",
       "    }\n",
       "\n",
       "    .dataframe tbody tr th {\n",
       "        vertical-align: top;\n",
       "    }\n",
       "\n",
       "    .dataframe thead th {\n",
       "        text-align: right;\n",
       "    }\n",
       "</style>\n",
       "<table border=\"1\" class=\"dataframe\">\n",
       "  <thead>\n",
       "    <tr style=\"text-align: right;\">\n",
       "      <th></th>\n",
       "      <th>Age</th>\n",
       "      <th>Diabetes</th>\n",
       "      <th>BloodPressureProblems</th>\n",
       "      <th>AnyTransplants</th>\n",
       "      <th>AnyChronicDiseases</th>\n",
       "      <th>Height</th>\n",
       "      <th>Weight</th>\n",
       "      <th>KnownAllergies</th>\n",
       "      <th>HistoryOfCancerInFamily</th>\n",
       "      <th>NumberOfMajorSurgeries</th>\n",
       "      <th>PremiumPrice</th>\n",
       "    </tr>\n",
       "  </thead>\n",
       "  <tbody>\n",
       "    <tr>\n",
       "      <th>count</th>\n",
       "      <td>986.000000</td>\n",
       "      <td>986.000000</td>\n",
       "      <td>986.000000</td>\n",
       "      <td>986.000000</td>\n",
       "      <td>986.000000</td>\n",
       "      <td>986.000000</td>\n",
       "      <td>986.000000</td>\n",
       "      <td>986.000000</td>\n",
       "      <td>986.000000</td>\n",
       "      <td>986.000000</td>\n",
       "      <td>986.000000</td>\n",
       "    </tr>\n",
       "    <tr>\n",
       "      <th>mean</th>\n",
       "      <td>41.745436</td>\n",
       "      <td>0.419878</td>\n",
       "      <td>0.468560</td>\n",
       "      <td>0.055781</td>\n",
       "      <td>0.180527</td>\n",
       "      <td>168.182556</td>\n",
       "      <td>76.950304</td>\n",
       "      <td>0.215010</td>\n",
       "      <td>0.117647</td>\n",
       "      <td>0.667343</td>\n",
       "      <td>24336.713996</td>\n",
       "    </tr>\n",
       "    <tr>\n",
       "      <th>std</th>\n",
       "      <td>13.963371</td>\n",
       "      <td>0.493789</td>\n",
       "      <td>0.499264</td>\n",
       "      <td>0.229615</td>\n",
       "      <td>0.384821</td>\n",
       "      <td>10.098155</td>\n",
       "      <td>14.265096</td>\n",
       "      <td>0.411038</td>\n",
       "      <td>0.322353</td>\n",
       "      <td>0.749205</td>\n",
       "      <td>6248.184382</td>\n",
       "    </tr>\n",
       "    <tr>\n",
       "      <th>min</th>\n",
       "      <td>18.000000</td>\n",
       "      <td>0.000000</td>\n",
       "      <td>0.000000</td>\n",
       "      <td>0.000000</td>\n",
       "      <td>0.000000</td>\n",
       "      <td>145.000000</td>\n",
       "      <td>51.000000</td>\n",
       "      <td>0.000000</td>\n",
       "      <td>0.000000</td>\n",
       "      <td>0.000000</td>\n",
       "      <td>15000.000000</td>\n",
       "    </tr>\n",
       "    <tr>\n",
       "      <th>25%</th>\n",
       "      <td>30.000000</td>\n",
       "      <td>0.000000</td>\n",
       "      <td>0.000000</td>\n",
       "      <td>0.000000</td>\n",
       "      <td>0.000000</td>\n",
       "      <td>161.000000</td>\n",
       "      <td>67.000000</td>\n",
       "      <td>0.000000</td>\n",
       "      <td>0.000000</td>\n",
       "      <td>0.000000</td>\n",
       "      <td>21000.000000</td>\n",
       "    </tr>\n",
       "    <tr>\n",
       "      <th>50%</th>\n",
       "      <td>42.000000</td>\n",
       "      <td>0.000000</td>\n",
       "      <td>0.000000</td>\n",
       "      <td>0.000000</td>\n",
       "      <td>0.000000</td>\n",
       "      <td>168.000000</td>\n",
       "      <td>75.000000</td>\n",
       "      <td>0.000000</td>\n",
       "      <td>0.000000</td>\n",
       "      <td>1.000000</td>\n",
       "      <td>23000.000000</td>\n",
       "    </tr>\n",
       "    <tr>\n",
       "      <th>75%</th>\n",
       "      <td>53.000000</td>\n",
       "      <td>1.000000</td>\n",
       "      <td>1.000000</td>\n",
       "      <td>0.000000</td>\n",
       "      <td>0.000000</td>\n",
       "      <td>176.000000</td>\n",
       "      <td>87.000000</td>\n",
       "      <td>0.000000</td>\n",
       "      <td>0.000000</td>\n",
       "      <td>1.000000</td>\n",
       "      <td>28000.000000</td>\n",
       "    </tr>\n",
       "    <tr>\n",
       "      <th>max</th>\n",
       "      <td>66.000000</td>\n",
       "      <td>1.000000</td>\n",
       "      <td>1.000000</td>\n",
       "      <td>1.000000</td>\n",
       "      <td>1.000000</td>\n",
       "      <td>188.000000</td>\n",
       "      <td>132.000000</td>\n",
       "      <td>1.000000</td>\n",
       "      <td>1.000000</td>\n",
       "      <td>3.000000</td>\n",
       "      <td>40000.000000</td>\n",
       "    </tr>\n",
       "  </tbody>\n",
       "</table>\n",
       "</div>"
      ],
      "text/plain": [
       "              Age    Diabetes  BloodPressureProblems  AnyTransplants  \\\n",
       "count  986.000000  986.000000             986.000000      986.000000   \n",
       "mean    41.745436    0.419878               0.468560        0.055781   \n",
       "std     13.963371    0.493789               0.499264        0.229615   \n",
       "min     18.000000    0.000000               0.000000        0.000000   \n",
       "25%     30.000000    0.000000               0.000000        0.000000   \n",
       "50%     42.000000    0.000000               0.000000        0.000000   \n",
       "75%     53.000000    1.000000               1.000000        0.000000   \n",
       "max     66.000000    1.000000               1.000000        1.000000   \n",
       "\n",
       "       AnyChronicDiseases      Height      Weight  KnownAllergies  \\\n",
       "count          986.000000  986.000000  986.000000      986.000000   \n",
       "mean             0.180527  168.182556   76.950304        0.215010   \n",
       "std              0.384821   10.098155   14.265096        0.411038   \n",
       "min              0.000000  145.000000   51.000000        0.000000   \n",
       "25%              0.000000  161.000000   67.000000        0.000000   \n",
       "50%              0.000000  168.000000   75.000000        0.000000   \n",
       "75%              0.000000  176.000000   87.000000        0.000000   \n",
       "max              1.000000  188.000000  132.000000        1.000000   \n",
       "\n",
       "       HistoryOfCancerInFamily  NumberOfMajorSurgeries  PremiumPrice  \n",
       "count               986.000000              986.000000    986.000000  \n",
       "mean                  0.117647                0.667343  24336.713996  \n",
       "std                   0.322353                0.749205   6248.184382  \n",
       "min                   0.000000                0.000000  15000.000000  \n",
       "25%                   0.000000                0.000000  21000.000000  \n",
       "50%                   0.000000                1.000000  23000.000000  \n",
       "75%                   0.000000                1.000000  28000.000000  \n",
       "max                   1.000000                3.000000  40000.000000  "
      ]
     },
     "execution_count": 4,
     "metadata": {},
     "output_type": "execute_result"
    }
   ],
   "source": [
    "df.describe()"
   ]
  },
  {
   "cell_type": "code",
   "execution_count": 5,
   "id": "83c2cde1",
   "metadata": {
    "execution": {
     "iopub.execute_input": "2021-09-13T08:45:18.679533Z",
     "iopub.status.busy": "2021-09-13T08:45:18.678913Z",
     "iopub.status.idle": "2021-09-13T08:45:18.686709Z",
     "shell.execute_reply": "2021-09-13T08:45:18.686182Z",
     "shell.execute_reply.started": "2021-09-13T08:22:23.619258Z"
    },
    "papermill": {
     "duration": 0.047398,
     "end_time": "2021-09-13T08:45:18.686842",
     "exception": false,
     "start_time": "2021-09-13T08:45:18.639444",
     "status": "completed"
    },
    "tags": []
   },
   "outputs": [
    {
     "data": {
      "text/plain": [
       "Age                        0\n",
       "Diabetes                   0\n",
       "BloodPressureProblems      0\n",
       "AnyTransplants             0\n",
       "AnyChronicDiseases         0\n",
       "Height                     0\n",
       "Weight                     0\n",
       "KnownAllergies             0\n",
       "HistoryOfCancerInFamily    0\n",
       "NumberOfMajorSurgeries     0\n",
       "PremiumPrice               0\n",
       "dtype: int64"
      ]
     },
     "execution_count": 5,
     "metadata": {},
     "output_type": "execute_result"
    }
   ],
   "source": [
    "df.isnull().sum()"
   ]
  },
  {
   "cell_type": "markdown",
   "id": "5c408162",
   "metadata": {
    "papermill": {
     "duration": 0.037324,
     "end_time": "2021-09-13T08:45:18.761326",
     "exception": false,
     "start_time": "2021-09-13T08:45:18.724002",
     "status": "completed"
    },
    "tags": []
   },
   "source": [
    "# Performing EDA to see the distribution of data"
   ]
  },
  {
   "cell_type": "code",
   "execution_count": 6,
   "id": "e39850ec",
   "metadata": {
    "execution": {
     "iopub.execute_input": "2021-09-13T08:45:18.850870Z",
     "iopub.status.busy": "2021-09-13T08:45:18.850153Z",
     "iopub.status.idle": "2021-09-13T08:45:19.390228Z",
     "shell.execute_reply": "2021-09-13T08:45:19.389609Z",
     "shell.execute_reply.started": "2021-09-13T08:22:23.632443Z"
    },
    "papermill": {
     "duration": 0.590729,
     "end_time": "2021-09-13T08:45:19.390364",
     "exception": false,
     "start_time": "2021-09-13T08:45:18.799635",
     "status": "completed"
    },
    "tags": []
   },
   "outputs": [
    {
     "data": {
      "text/plain": [
       "<seaborn.axisgrid.FacetGrid at 0x23ce71f2040>"
      ]
     },
     "execution_count": 6,
     "metadata": {},
     "output_type": "execute_result"
    },
    {
     "data": {
      "image/png": "[encoded data removed]",
      "text/plain": [
       "<Figure size 600x360 with 1 Axes>"
      ]
     },
     "metadata": {},
     "output_type": "display_data"
    }
   ],
   "source": [
    "sns.displot(x='Age',data=df,aspect=10/6,kde=True)"
   ]
  },
  {
   "cell_type": "code",
   "execution_count": 7,
   "id": "6549b28a",
   "metadata": {
    "execution": {
     "iopub.execute_input": "2021-09-13T08:45:19.501194Z",
     "iopub.status.busy": "2021-09-13T08:45:19.497289Z",
     "iopub.status.idle": "2021-09-13T08:45:19.904274Z",
     "shell.execute_reply": "2021-09-13T08:45:19.903643Z",
     "shell.execute_reply.started": "2021-09-13T08:22:24.042369Z"
    },
    "papermill": {
     "duration": 0.475103,
     "end_time": "2021-09-13T08:45:19.904422",
     "exception": false,
     "start_time": "2021-09-13T08:45:19.429319",
     "status": "completed"
    },
    "tags": []
   },
   "outputs": [
    {
     "data": {
      "text/plain": [
       "<seaborn.axisgrid.FacetGrid at 0x23ceca84fd0>"
      ]
     },
     "execution_count": 7,
     "metadata": {},
     "output_type": "execute_result"
    },
    {
     "data": {
      "image/png": "[encoded data removed]",
      "text/plain": [
       "<Figure size 600x360 with 1 Axes>"
      ]
     },
     "metadata": {},
     "output_type": "display_data"
    }
   ],
   "source": [
    "sns.displot(x='PremiumPrice',data=df,aspect=10/6,kde=True)"
   ]
  },
  {
   "cell_type": "markdown",
   "id": "08c89793",
   "metadata": {
    "papermill": {
     "duration": 0.040315,
     "end_time": "2021-09-13T08:45:19.985522",
     "exception": false,
     "start_time": "2021-09-13T08:45:19.945207",
     "status": "completed"
    },
    "tags": []
   },
   "source": [
    "## Creating salary-bins to visualize distribution of Premium Price and Age"
   ]
  },
  {
   "cell_type": "code",
   "execution_count": 8,
   "id": "fc24c418",
   "metadata": {
    "execution": {
     "iopub.execute_input": "2021-09-13T08:45:20.076813Z",
     "iopub.status.busy": "2021-09-13T08:45:20.076067Z",
     "iopub.status.idle": "2021-09-13T08:45:20.079413Z",
     "shell.execute_reply": "2021-09-13T08:45:20.078855Z",
     "shell.execute_reply.started": "2021-09-13T08:22:24.441990Z"
    },
    "papermill": {
     "duration": 0.052825,
     "end_time": "2021-09-13T08:45:20.079566",
     "exception": false,
     "start_time": "2021-09-13T08:45:20.026741",
     "status": "completed"
    },
    "tags": []
   },
   "outputs": [],
   "source": [
    "pr_lab=['Low','Basic','Average','High','SuperHigh']\n",
    "df['PremiumLabel']=pr_bins=pd.cut(df['PremiumPrice'],bins=5,labels=pr_lab,precision=0)"
   ]
  },
  {
   "cell_type": "code",
   "execution_count": 9,
   "id": "1d7cb7d1",
   "metadata": {
    "execution": {
     "iopub.execute_input": "2021-09-13T08:45:20.165361Z",
     "iopub.status.busy": "2021-09-13T08:45:20.164752Z",
     "iopub.status.idle": "2021-09-13T08:45:20.168441Z",
     "shell.execute_reply": "2021-09-13T08:45:20.167850Z",
     "shell.execute_reply.started": "2021-09-13T08:22:24.454159Z"
    },
    "papermill": {
     "duration": 0.048882,
     "end_time": "2021-09-13T08:45:20.168600",
     "exception": false,
     "start_time": "2021-09-13T08:45:20.119718",
     "status": "completed"
    },
    "tags": []
   },
   "outputs": [
    {
     "data": {
      "text/plain": [
       "Index(['Age', 'Diabetes', 'BloodPressureProblems', 'AnyTransplants',\n",
       "       'AnyChronicDiseases', 'Height', 'Weight', 'KnownAllergies',\n",
       "       'HistoryOfCancerInFamily', 'NumberOfMajorSurgeries', 'PremiumPrice',\n",
       "       'PremiumLabel'],\n",
       "      dtype='object')"
      ]
     },
     "execution_count": 9,
     "metadata": {},
     "output_type": "execute_result"
    }
   ],
   "source": [
    "df.columns"
   ]
  },
  {
   "cell_type": "code",
   "execution_count": 10,
   "id": "5ad49c3f",
   "metadata": {
    "execution": {
     "iopub.execute_input": "2021-09-13T08:45:20.262807Z",
     "iopub.status.busy": "2021-09-13T08:45:20.262132Z",
     "iopub.status.idle": "2021-09-13T08:45:20.266298Z",
     "shell.execute_reply": "2021-09-13T08:45:20.266793Z",
     "shell.execute_reply.started": "2021-09-13T08:22:24.471687Z"
    },
    "papermill": {
     "duration": 0.058492,
     "end_time": "2021-09-13T08:45:20.266964",
     "exception": false,
     "start_time": "2021-09-13T08:45:20.208472",
     "status": "completed"
    },
    "tags": []
   },
   "outputs": [
    {
     "data": {
      "text/html": [
       "<div>\n",
       "<style scoped>\n",
       "    .dataframe tbody tr th:only-of-type {\n",
       "        vertical-align: middle;\n",
       "    }\n",
       "\n",
       "    .dataframe tbody tr th {\n",
       "        vertical-align: top;\n",
       "    }\n",
       "\n",
       "    .dataframe thead th {\n",
       "        text-align: right;\n",
       "    }\n",
       "</style>\n",
       "<table border=\"1\" class=\"dataframe\">\n",
       "  <thead>\n",
       "    <tr style=\"text-align: right;\">\n",
       "      <th></th>\n",
       "      <th>Age</th>\n",
       "      <th>Diabetes</th>\n",
       "      <th>BloodPressureProblems</th>\n",
       "      <th>AnyTransplants</th>\n",
       "      <th>AnyChronicDiseases</th>\n",
       "      <th>Height</th>\n",
       "      <th>Weight</th>\n",
       "      <th>KnownAllergies</th>\n",
       "      <th>HistoryOfCancerInFamily</th>\n",
       "      <th>NumberOfMajorSurgeries</th>\n",
       "      <th>PremiumPrice</th>\n",
       "      <th>PremiumLabel</th>\n",
       "    </tr>\n",
       "  </thead>\n",
       "  <tbody>\n",
       "    <tr>\n",
       "      <th>0</th>\n",
       "      <td>45</td>\n",
       "      <td>0</td>\n",
       "      <td>0</td>\n",
       "      <td>0</td>\n",
       "      <td>0</td>\n",
       "      <td>155</td>\n",
       "      <td>57</td>\n",
       "      <td>0</td>\n",
       "      <td>0</td>\n",
       "      <td>0</td>\n",
       "      <td>25000</td>\n",
       "      <td>Basic</td>\n",
       "    </tr>\n",
       "    <tr>\n",
       "      <th>1</th>\n",
       "      <td>60</td>\n",
       "      <td>1</td>\n",
       "      <td>0</td>\n",
       "      <td>0</td>\n",
       "      <td>0</td>\n",
       "      <td>180</td>\n",
       "      <td>73</td>\n",
       "      <td>0</td>\n",
       "      <td>0</td>\n",
       "      <td>0</td>\n",
       "      <td>29000</td>\n",
       "      <td>Average</td>\n",
       "    </tr>\n",
       "    <tr>\n",
       "      <th>2</th>\n",
       "      <td>36</td>\n",
       "      <td>1</td>\n",
       "      <td>1</td>\n",
       "      <td>0</td>\n",
       "      <td>0</td>\n",
       "      <td>158</td>\n",
       "      <td>59</td>\n",
       "      <td>0</td>\n",
       "      <td>0</td>\n",
       "      <td>1</td>\n",
       "      <td>23000</td>\n",
       "      <td>Basic</td>\n",
       "    </tr>\n",
       "    <tr>\n",
       "      <th>3</th>\n",
       "      <td>52</td>\n",
       "      <td>1</td>\n",
       "      <td>1</td>\n",
       "      <td>0</td>\n",
       "      <td>1</td>\n",
       "      <td>183</td>\n",
       "      <td>93</td>\n",
       "      <td>0</td>\n",
       "      <td>0</td>\n",
       "      <td>2</td>\n",
       "      <td>28000</td>\n",
       "      <td>Average</td>\n",
       "    </tr>\n",
       "    <tr>\n",
       "      <th>4</th>\n",
       "      <td>38</td>\n",
       "      <td>0</td>\n",
       "      <td>0</td>\n",
       "      <td>0</td>\n",
       "      <td>1</td>\n",
       "      <td>166</td>\n",
       "      <td>88</td>\n",
       "      <td>0</td>\n",
       "      <td>0</td>\n",
       "      <td>1</td>\n",
       "      <td>23000</td>\n",
       "      <td>Basic</td>\n",
       "    </tr>\n",
       "  </tbody>\n",
       "</table>\n",
       "</div>"
      ],
      "text/plain": [
       "   Age  Diabetes  BloodPressureProblems  AnyTransplants  AnyChronicDiseases  \\\n",
       "0   45         0                      0               0                   0   \n",
       "1   60         1                      0               0                   0   \n",
       "2   36         1                      1               0                   0   \n",
       "3   52         1                      1               0                   1   \n",
       "4   38         0                      0               0                   1   \n",
       "\n",
       "   Height  Weight  KnownAllergies  HistoryOfCancerInFamily  \\\n",
       "0     155      57               0                        0   \n",
       "1     180      73               0                        0   \n",
       "2     158      59               0                        0   \n",
       "3     183      93               0                        0   \n",
       "4     166      88               0                        0   \n",
       "\n",
       "   NumberOfMajorSurgeries  PremiumPrice PremiumLabel  \n",
       "0                       0         25000        Basic  \n",
       "1                       0         29000      Average  \n",
       "2                       1         23000        Basic  \n",
       "3                       2         28000      Average  \n",
       "4                       1         23000        Basic  "
      ]
     },
     "execution_count": 10,
     "metadata": {},
     "output_type": "execute_result"
    }
   ],
   "source": [
    "df.head()"
   ]
  },
  {
   "cell_type": "code",
   "execution_count": 11,
   "id": "91b97923",
   "metadata": {
    "execution": {
     "iopub.execute_input": "2021-09-13T08:45:20.381348Z",
     "iopub.status.busy": "2021-09-13T08:45:20.380695Z",
     "iopub.status.idle": "2021-09-13T08:45:20.721038Z",
     "shell.execute_reply": "2021-09-13T08:45:20.720378Z",
     "shell.execute_reply.started": "2021-09-13T08:22:24.492388Z"
    },
    "papermill": {
     "duration": 0.413174,
     "end_time": "2021-09-13T08:45:20.721175",
     "exception": false,
     "start_time": "2021-09-13T08:45:20.308001",
     "status": "completed"
    },
    "tags": []
   },
   "outputs": [
    {
     "data": {
      "text/plain": [
       "<AxesSubplot:xlabel='PremiumLabel', ylabel='Age'>"
      ]
     },
     "execution_count": 11,
     "metadata": {},
     "output_type": "execute_result"
    },
    {
     "data": {
      "image/png": "[encoded data removed]",
      "text/plain": [
       "<Figure size 864x432 with 1 Axes>"
      ]
     },
     "metadata": {},
     "output_type": "display_data"
    }
   ],
   "source": [
    "fig,ax=plt.subplots(figsize=(12,6))\n",
    "sns.barplot(y='Age',x='PremiumLabel',data=df,ax=ax)"
   ]
  },
  {
   "cell_type": "code",
   "execution_count": 12,
   "id": "61168f9d",
   "metadata": {
    "execution": {
     "iopub.execute_input": "2021-09-13T08:45:20.842358Z",
     "iopub.status.busy": "2021-09-13T08:45:20.827893Z",
     "iopub.status.idle": "2021-09-13T08:45:22.625483Z",
     "shell.execute_reply": "2021-09-13T08:45:22.626033Z",
     "shell.execute_reply.started": "2021-09-13T08:22:24.876624Z"
    },
    "papermill": {
     "duration": 1.862712,
     "end_time": "2021-09-13T08:45:22.626208",
     "exception": false,
     "start_time": "2021-09-13T08:45:20.763496",
     "status": "completed"
    },
    "tags": []
   },
   "outputs": [
    {
     "data": {
      "text/plain": [
       "<seaborn.axisgrid.JointGrid at 0x23cecc04bb0>"
      ]
     },
     "execution_count": 12,
     "metadata": {},
     "output_type": "execute_result"
    },
    {
     "data": {
      "image/png": "[encoded data removed]",
      "text/plain": [
       "<Figure size 576x576 with 3 Axes>"
      ]
     },
     "metadata": {},
     "output_type": "display_data"
    }
   ],
   "source": [
    "sns.jointplot(x='Height',y='Weight',data=df,hue='PremiumLabel',height=8,kind='kde')"
   ]
  },
  {
   "cell_type": "code",
   "execution_count": 13,
   "id": "5e6e7483",
   "metadata": {
    "execution": {
     "iopub.execute_input": "2021-09-13T08:45:22.725779Z",
     "iopub.status.busy": "2021-09-13T08:45:22.725083Z",
     "iopub.status.idle": "2021-09-13T08:45:22.731675Z",
     "shell.execute_reply": "2021-09-13T08:45:22.732167Z",
     "shell.execute_reply.started": "2021-09-13T08:22:26.709055Z"
    },
    "papermill": {
     "duration": 0.057825,
     "end_time": "2021-09-13T08:45:22.732332",
     "exception": false,
     "start_time": "2021-09-13T08:45:22.674507",
     "status": "completed"
    },
    "tags": []
   },
   "outputs": [],
   "source": [
    "age_lab=['Teen','Young','Middle','Old','SuperOld']\n",
    "df['AgeLabel']=pd.cut(df['Age'],bins=5,labels=age_lab,precision=0)"
   ]
  },
  {
   "cell_type": "code",
   "execution_count": 14,
   "id": "c1a1e43a",
   "metadata": {
    "execution": {
     "iopub.execute_input": "2021-09-13T08:45:22.832241Z",
     "iopub.status.busy": "2021-09-13T08:45:22.831526Z",
     "iopub.status.idle": "2021-09-13T08:45:22.836598Z",
     "shell.execute_reply": "2021-09-13T08:45:22.837157Z",
     "shell.execute_reply.started": "2021-09-13T08:22:26.719735Z"
    },
    "papermill": {
     "duration": 0.057082,
     "end_time": "2021-09-13T08:45:22.837333",
     "exception": false,
     "start_time": "2021-09-13T08:45:22.780251",
     "status": "completed"
    },
    "tags": []
   },
   "outputs": [
    {
     "data": {
      "text/plain": [
       "Index(['Age', 'Diabetes', 'BloodPressureProblems', 'AnyTransplants',\n",
       "       'AnyChronicDiseases', 'Height', 'Weight', 'KnownAllergies',\n",
       "       'HistoryOfCancerInFamily', 'NumberOfMajorSurgeries', 'PremiumPrice',\n",
       "       'PremiumLabel', 'AgeLabel'],\n",
       "      dtype='object')"
      ]
     },
     "execution_count": 14,
     "metadata": {},
     "output_type": "execute_result"
    }
   ],
   "source": [
    "df.columns"
   ]
  },
  {
   "cell_type": "code",
   "execution_count": 15,
   "id": "01a0f5b8",
   "metadata": {
    "execution": {
     "iopub.execute_input": "2021-09-13T08:45:22.939137Z",
     "iopub.status.busy": "2021-09-13T08:45:22.938463Z",
     "iopub.status.idle": "2021-09-13T08:45:24.560790Z",
     "shell.execute_reply": "2021-09-13T08:45:24.560275Z",
     "shell.execute_reply.started": "2021-09-13T08:22:26.736854Z"
    },
    "papermill": {
     "duration": 1.674543,
     "end_time": "2021-09-13T08:45:24.560932",
     "exception": false,
     "start_time": "2021-09-13T08:45:22.886389",
     "status": "completed"
    },
    "tags": []
   },
   "outputs": [
    {
     "data": {
      "text/plain": [
       "<seaborn.axisgrid.FacetGrid at 0x23ced096070>"
      ]
     },
     "execution_count": 15,
     "metadata": {},
     "output_type": "execute_result"
    },
    {
     "data": {
      "image/png": "[encoded data removed]",
      "text/plain": [
       "<Figure size 1800x360 with 5 Axes>"
      ]
     },
     "metadata": {},
     "output_type": "display_data"
    }
   ],
   "source": [
    "sns.relplot(x='Age',y='PremiumPrice',data=df,col='PremiumLabel',aspect=10/10)"
   ]
  },
  {
   "cell_type": "code",
   "execution_count": 16,
   "id": "a6415a39",
   "metadata": {
    "execution": {
     "iopub.execute_input": "2021-09-13T08:45:24.687916Z",
     "iopub.status.busy": "2021-09-13T08:45:24.666321Z",
     "iopub.status.idle": "2021-09-13T08:45:25.353710Z",
     "shell.execute_reply": "2021-09-13T08:45:25.354238Z",
     "shell.execute_reply.started": "2021-09-13T08:22:28.342290Z"
    },
    "papermill": {
     "duration": 0.743751,
     "end_time": "2021-09-13T08:45:25.354411",
     "exception": false,
     "start_time": "2021-09-13T08:45:24.610660",
     "status": "completed"
    },
    "tags": []
   },
   "outputs": [
    {
     "data": {
      "text/plain": [
       "<AxesSubplot:xlabel='PremiumLabel', ylabel='Age'>"
      ]
     },
     "execution_count": 16,
     "metadata": {},
     "output_type": "execute_result"
    },
    {
     "data": {
      "image/png": "[encoded data removed]",
      "text/plain": [
       "<Figure size 864x432 with 1 Axes>"
      ]
     },
     "metadata": {},
     "output_type": "display_data"
    }
   ],
   "source": [
    "fig,ax=plt.subplots(figsize=(12,6))\n",
    "sns.swarmplot(x='PremiumLabel',y='Age',data=df,ax=ax)"
   ]
  },
  {
   "cell_type": "markdown",
   "id": "00dafa02",
   "metadata": {
    "papermill": {
     "duration": 0.052563,
     "end_time": "2021-09-13T08:45:25.459640",
     "exception": false,
     "start_time": "2021-09-13T08:45:25.407077",
     "status": "completed"
    },
    "tags": []
   },
   "source": [
    "# Converting new categorical columns to numeric ones"
   ]
  },
  {
   "cell_type": "code",
   "execution_count": 17,
   "id": "8b77489a",
   "metadata": {},
   "outputs": [
    {
     "name": "stdout",
     "output_type": "stream",
     "text": [
      "<class 'pandas.core.frame.DataFrame'>\n",
      "RangeIndex: 986 entries, 0 to 985\n",
      "Data columns (total 13 columns):\n",
      " #   Column                   Non-Null Count  Dtype   \n",
      "---  ------                   --------------  -----   \n",
      " 0   Age                      986 non-null    int64   \n",
      " 1   Diabetes                 986 non-null    int64   \n",
      " 2   BloodPressureProblems    986 non-null    int64   \n",
      " 3   AnyTransplants           986 non-null    int64   \n",
      " 4   AnyChronicDiseases       986 non-null    int64   \n",
      " 5   Height                   986 non-null    int64   \n",
      " 6   Weight                   986 non-null    int64   \n",
      " 7   KnownAllergies           986 non-null    int64   \n",
      " 8   HistoryOfCancerInFamily  986 non-null    int64   \n",
      " 9   NumberOfMajorSurgeries   986 non-null    int64   \n",
      " 10  PremiumPrice             986 non-null    int64   \n",
      " 11  PremiumLabel             986 non-null    category\n",
      " 12  AgeLabel                 986 non-null    category\n",
      "dtypes: category(2), int64(11)\n",
      "memory usage: 87.2 KB\n"
     ]
    }
   ],
   "source": [
    "df.info()"
   ]
  },
  {
   "cell_type": "code",
   "execution_count": 18,
   "id": "b62272c7",
   "metadata": {
    "execution": {
     "iopub.execute_input": "2021-09-13T08:45:25.574865Z",
     "iopub.status.busy": "2021-09-13T08:45:25.573865Z",
     "iopub.status.idle": "2021-09-13T08:45:25.578189Z",
     "shell.execute_reply": "2021-09-13T08:45:25.577649Z",
     "shell.execute_reply.started": "2021-09-13T08:22:29.030490Z"
    },
    "papermill": {
     "duration": 0.065573,
     "end_time": "2021-09-13T08:45:25.578327",
     "exception": false,
     "start_time": "2021-09-13T08:45:25.512754",
     "status": "completed"
    },
    "tags": []
   },
   "outputs": [],
   "source": [
    "df=pd.get_dummies(data=df,columns=['AgeLabel','PremiumLabel'])"
   ]
  },
  {
   "cell_type": "code",
   "execution_count": 19,
   "id": "0493727c",
   "metadata": {
    "execution": {
     "iopub.execute_input": "2021-09-13T08:45:25.686772Z",
     "iopub.status.busy": "2021-09-13T08:45:25.686062Z",
     "iopub.status.idle": "2021-09-13T08:45:25.691528Z",
     "shell.execute_reply": "2021-09-13T08:45:25.692059Z",
     "shell.execute_reply.started": "2021-09-13T08:22:29.042760Z"
    },
    "papermill": {
     "duration": 0.061265,
     "end_time": "2021-09-13T08:45:25.692225",
     "exception": false,
     "start_time": "2021-09-13T08:45:25.630960",
     "status": "completed"
    },
    "tags": []
   },
   "outputs": [
    {
     "data": {
      "text/plain": [
       "Index(['Age', 'Diabetes', 'BloodPressureProblems', 'AnyTransplants',\n",
       "       'AnyChronicDiseases', 'Height', 'Weight', 'KnownAllergies',\n",
       "       'HistoryOfCancerInFamily', 'NumberOfMajorSurgeries', 'PremiumPrice',\n",
       "       'AgeLabel_Teen', 'AgeLabel_Young', 'AgeLabel_Middle', 'AgeLabel_Old',\n",
       "       'AgeLabel_SuperOld', 'PremiumLabel_Low', 'PremiumLabel_Basic',\n",
       "       'PremiumLabel_Average', 'PremiumLabel_High', 'PremiumLabel_SuperHigh'],\n",
       "      dtype='object')"
      ]
     },
     "execution_count": 19,
     "metadata": {},
     "output_type": "execute_result"
    }
   ],
   "source": [
    "df.columns"
   ]
  },
  {
   "cell_type": "code",
   "execution_count": 20,
   "id": "6aa1d438",
   "metadata": {
    "execution": {
     "iopub.execute_input": "2021-09-13T08:45:25.801830Z",
     "iopub.status.busy": "2021-09-13T08:45:25.801131Z",
     "iopub.status.idle": "2021-09-13T08:45:25.875117Z",
     "shell.execute_reply": "2021-09-13T08:45:25.875609Z",
     "shell.execute_reply.started": "2021-09-13T08:22:29.059234Z"
    },
    "papermill": {
     "duration": 0.130244,
     "end_time": "2021-09-13T08:45:25.875782",
     "exception": false,
     "start_time": "2021-09-13T08:45:25.745538",
     "status": "completed"
    },
    "tags": []
   },
   "outputs": [
    {
     "data": {
      "text/html": [
       "<div>\n",
       "<style scoped>\n",
       "    .dataframe tbody tr th:only-of-type {\n",
       "        vertical-align: middle;\n",
       "    }\n",
       "\n",
       "    .dataframe tbody tr th {\n",
       "        vertical-align: top;\n",
       "    }\n",
       "\n",
       "    .dataframe thead th {\n",
       "        text-align: right;\n",
       "    }\n",
       "</style>\n",
       "<table border=\"1\" class=\"dataframe\">\n",
       "  <thead>\n",
       "    <tr style=\"text-align: right;\">\n",
       "      <th></th>\n",
       "      <th>Age</th>\n",
       "      <th>Diabetes</th>\n",
       "      <th>BloodPressureProblems</th>\n",
       "      <th>AnyTransplants</th>\n",
       "      <th>AnyChronicDiseases</th>\n",
       "      <th>Height</th>\n",
       "      <th>Weight</th>\n",
       "      <th>KnownAllergies</th>\n",
       "      <th>HistoryOfCancerInFamily</th>\n",
       "      <th>NumberOfMajorSurgeries</th>\n",
       "      <th>...</th>\n",
       "      <th>AgeLabel_Teen</th>\n",
       "      <th>AgeLabel_Young</th>\n",
       "      <th>AgeLabel_Middle</th>\n",
       "      <th>AgeLabel_Old</th>\n",
       "      <th>AgeLabel_SuperOld</th>\n",
       "      <th>PremiumLabel_Low</th>\n",
       "      <th>PremiumLabel_Basic</th>\n",
       "      <th>PremiumLabel_Average</th>\n",
       "      <th>PremiumLabel_High</th>\n",
       "      <th>PremiumLabel_SuperHigh</th>\n",
       "    </tr>\n",
       "  </thead>\n",
       "  <tbody>\n",
       "    <tr>\n",
       "      <th>count</th>\n",
       "      <td>986.000000</td>\n",
       "      <td>986.000000</td>\n",
       "      <td>986.000000</td>\n",
       "      <td>986.000000</td>\n",
       "      <td>986.000000</td>\n",
       "      <td>986.000000</td>\n",
       "      <td>986.000000</td>\n",
       "      <td>986.000000</td>\n",
       "      <td>986.000000</td>\n",
       "      <td>986.000000</td>\n",
       "      <td>...</td>\n",
       "      <td>986.000000</td>\n",
       "      <td>986.000000</td>\n",
       "      <td>986.000000</td>\n",
       "      <td>986.000000</td>\n",
       "      <td>986.000000</td>\n",
       "      <td>986.000000</td>\n",
       "      <td>986.000000</td>\n",
       "      <td>986.000000</td>\n",
       "      <td>986.000000</td>\n",
       "      <td>986.000000</td>\n",
       "    </tr>\n",
       "    <tr>\n",
       "      <th>mean</th>\n",
       "      <td>41.745436</td>\n",
       "      <td>0.419878</td>\n",
       "      <td>0.468560</td>\n",
       "      <td>0.055781</td>\n",
       "      <td>0.180527</td>\n",
       "      <td>168.182556</td>\n",
       "      <td>76.950304</td>\n",
       "      <td>0.215010</td>\n",
       "      <td>0.117647</td>\n",
       "      <td>0.667343</td>\n",
       "      <td>...</td>\n",
       "      <td>0.202840</td>\n",
       "      <td>0.209939</td>\n",
       "      <td>0.196755</td>\n",
       "      <td>0.199797</td>\n",
       "      <td>0.190669</td>\n",
       "      <td>0.227181</td>\n",
       "      <td>0.388438</td>\n",
       "      <td>0.262677</td>\n",
       "      <td>0.079108</td>\n",
       "      <td>0.042596</td>\n",
       "    </tr>\n",
       "    <tr>\n",
       "      <th>std</th>\n",
       "      <td>13.963371</td>\n",
       "      <td>0.493789</td>\n",
       "      <td>0.499264</td>\n",
       "      <td>0.229615</td>\n",
       "      <td>0.384821</td>\n",
       "      <td>10.098155</td>\n",
       "      <td>14.265096</td>\n",
       "      <td>0.411038</td>\n",
       "      <td>0.322353</td>\n",
       "      <td>0.749205</td>\n",
       "      <td>...</td>\n",
       "      <td>0.402318</td>\n",
       "      <td>0.407472</td>\n",
       "      <td>0.397747</td>\n",
       "      <td>0.400051</td>\n",
       "      <td>0.393028</td>\n",
       "      <td>0.419223</td>\n",
       "      <td>0.487642</td>\n",
       "      <td>0.440312</td>\n",
       "      <td>0.270043</td>\n",
       "      <td>0.202048</td>\n",
       "    </tr>\n",
       "    <tr>\n",
       "      <th>min</th>\n",
       "      <td>18.000000</td>\n",
       "      <td>0.000000</td>\n",
       "      <td>0.000000</td>\n",
       "      <td>0.000000</td>\n",
       "      <td>0.000000</td>\n",
       "      <td>145.000000</td>\n",
       "      <td>51.000000</td>\n",
       "      <td>0.000000</td>\n",
       "      <td>0.000000</td>\n",
       "      <td>0.000000</td>\n",
       "      <td>...</td>\n",
       "      <td>0.000000</td>\n",
       "      <td>0.000000</td>\n",
       "      <td>0.000000</td>\n",
       "      <td>0.000000</td>\n",
       "      <td>0.000000</td>\n",
       "      <td>0.000000</td>\n",
       "      <td>0.000000</td>\n",
       "      <td>0.000000</td>\n",
       "      <td>0.000000</td>\n",
       "      <td>0.000000</td>\n",
       "    </tr>\n",
       "    <tr>\n",
       "      <th>25%</th>\n",
       "      <td>30.000000</td>\n",
       "      <td>0.000000</td>\n",
       "      <td>0.000000</td>\n",
       "      <td>0.000000</td>\n",
       "      <td>0.000000</td>\n",
       "      <td>161.000000</td>\n",
       "      <td>67.000000</td>\n",
       "      <td>0.000000</td>\n",
       "      <td>0.000000</td>\n",
       "      <td>0.000000</td>\n",
       "      <td>...</td>\n",
       "      <td>0.000000</td>\n",
       "      <td>0.000000</td>\n",
       "      <td>0.000000</td>\n",
       "      <td>0.000000</td>\n",
       "      <td>0.000000</td>\n",
       "      <td>0.000000</td>\n",
       "      <td>0.000000</td>\n",
       "      <td>0.000000</td>\n",
       "      <td>0.000000</td>\n",
       "      <td>0.000000</td>\n",
       "    </tr>\n",
       "    <tr>\n",
       "      <th>50%</th>\n",
       "      <td>42.000000</td>\n",
       "      <td>0.000000</td>\n",
       "      <td>0.000000</td>\n",
       "      <td>0.000000</td>\n",
       "      <td>0.000000</td>\n",
       "      <td>168.000000</td>\n",
       "      <td>75.000000</td>\n",
       "      <td>0.000000</td>\n",
       "      <td>0.000000</td>\n",
       "      <td>1.000000</td>\n",
       "      <td>...</td>\n",
       "      <td>0.000000</td>\n",
       "      <td>0.000000</td>\n",
       "      <td>0.000000</td>\n",
       "      <td>0.000000</td>\n",
       "      <td>0.000000</td>\n",
       "      <td>0.000000</td>\n",
       "      <td>0.000000</td>\n",
       "      <td>0.000000</td>\n",
       "      <td>0.000000</td>\n",
       "      <td>0.000000</td>\n",
       "    </tr>\n",
       "    <tr>\n",
       "      <th>75%</th>\n",
       "      <td>53.000000</td>\n",
       "      <td>1.000000</td>\n",
       "      <td>1.000000</td>\n",
       "      <td>0.000000</td>\n",
       "      <td>0.000000</td>\n",
       "      <td>176.000000</td>\n",
       "      <td>87.000000</td>\n",
       "      <td>0.000000</td>\n",
       "      <td>0.000000</td>\n",
       "      <td>1.000000</td>\n",
       "      <td>...</td>\n",
       "      <td>0.000000</td>\n",
       "      <td>0.000000</td>\n",
       "      <td>0.000000</td>\n",
       "      <td>0.000000</td>\n",
       "      <td>0.000000</td>\n",
       "      <td>0.000000</td>\n",
       "      <td>1.000000</td>\n",
       "      <td>1.000000</td>\n",
       "      <td>0.000000</td>\n",
       "      <td>0.000000</td>\n",
       "    </tr>\n",
       "    <tr>\n",
       "      <th>max</th>\n",
       "      <td>66.000000</td>\n",
       "      <td>1.000000</td>\n",
       "      <td>1.000000</td>\n",
       "      <td>1.000000</td>\n",
       "      <td>1.000000</td>\n",
       "      <td>188.000000</td>\n",
       "      <td>132.000000</td>\n",
       "      <td>1.000000</td>\n",
       "      <td>1.000000</td>\n",
       "      <td>3.000000</td>\n",
       "      <td>...</td>\n",
       "      <td>1.000000</td>\n",
       "      <td>1.000000</td>\n",
       "      <td>1.000000</td>\n",
       "      <td>1.000000</td>\n",
       "      <td>1.000000</td>\n",
       "      <td>1.000000</td>\n",
       "      <td>1.000000</td>\n",
       "      <td>1.000000</td>\n",
       "      <td>1.000000</td>\n",
       "      <td>1.000000</td>\n",
       "    </tr>\n",
       "  </tbody>\n",
       "</table>\n",
       "<p>8 rows × 21 columns</p>\n",
       "</div>"
      ],
      "text/plain": [
       "              Age    Diabetes  BloodPressureProblems  AnyTransplants  \\\n",
       "count  986.000000  986.000000             986.000000      986.000000   \n",
       "mean    41.745436    0.419878               0.468560        0.055781   \n",
       "std     13.963371    0.493789               0.499264        0.229615   \n",
       "min     18.000000    0.000000               0.000000        0.000000   \n",
       "25%     30.000000    0.000000               0.000000        0.000000   \n",
       "50%     42.000000    0.000000               0.000000        0.000000   \n",
       "75%     53.000000    1.000000               1.000000        0.000000   \n",
       "max     66.000000    1.000000               1.000000        1.000000   \n",
       "\n",
       "       AnyChronicDiseases      Height      Weight  KnownAllergies  \\\n",
       "count          986.000000  986.000000  986.000000      986.000000   \n",
       "mean             0.180527  168.182556   76.950304        0.215010   \n",
       "std              0.384821   10.098155   14.265096        0.411038   \n",
       "min              0.000000  145.000000   51.000000        0.000000   \n",
       "25%              0.000000  161.000000   67.000000        0.000000   \n",
       "50%              0.000000  168.000000   75.000000        0.000000   \n",
       "75%              0.000000  176.000000   87.000000        0.000000   \n",
       "max              1.000000  188.000000  132.000000        1.000000   \n",
       "\n",
       "       HistoryOfCancerInFamily  NumberOfMajorSurgeries  ...  AgeLabel_Teen  \\\n",
       "count               986.000000              986.000000  ...     986.000000   \n",
       "mean                  0.117647                0.667343  ...       0.202840   \n",
       "std                   0.322353                0.749205  ...       0.402318   \n",
       "min                   0.000000                0.000000  ...       0.000000   \n",
       "25%                   0.000000                0.000000  ...       0.000000   \n",
       "50%                   0.000000                1.000000  ...       0.000000   \n",
       "75%                   0.000000                1.000000  ...       0.000000   \n",
       "max                   1.000000                3.000000  ...       1.000000   \n",
       "\n",
       "       AgeLabel_Young  AgeLabel_Middle  AgeLabel_Old  AgeLabel_SuperOld  \\\n",
       "count      986.000000       986.000000    986.000000         986.000000   \n",
       "mean         0.209939         0.196755      0.199797           0.190669   \n",
       "std          0.407472         0.397747      0.400051           0.393028   \n",
       "min          0.000000         0.000000      0.000000           0.000000   \n",
       "25%          0.000000         0.000000      0.000000           0.000000   \n",
       "50%          0.000000         0.000000      0.000000           0.000000   \n",
       "75%          0.000000         0.000000      0.000000           0.000000   \n",
       "max          1.000000         1.000000      1.000000           1.000000   \n",
       "\n",
       "       PremiumLabel_Low  PremiumLabel_Basic  PremiumLabel_Average  \\\n",
       "count        986.000000          986.000000            986.000000   \n",
       "mean           0.227181            0.388438              0.262677   \n",
       "std            0.419223            0.487642              0.440312   \n",
       "min            0.000000            0.000000              0.000000   \n",
       "25%            0.000000            0.000000              0.000000   \n",
       "50%            0.000000            0.000000              0.000000   \n",
       "75%            0.000000            1.000000              1.000000   \n",
       "max            1.000000            1.000000              1.000000   \n",
       "\n",
       "       PremiumLabel_High  PremiumLabel_SuperHigh  \n",
       "count         986.000000              986.000000  \n",
       "mean            0.079108                0.042596  \n",
       "std             0.270043                0.202048  \n",
       "min             0.000000                0.000000  \n",
       "25%             0.000000                0.000000  \n",
       "50%             0.000000                0.000000  \n",
       "75%             0.000000                0.000000  \n",
       "max             1.000000                1.000000  \n",
       "\n",
       "[8 rows x 21 columns]"
      ]
     },
     "execution_count": 20,
     "metadata": {},
     "output_type": "execute_result"
    }
   ],
   "source": [
    "df.describe()"
   ]
  },
  {
   "cell_type": "markdown",
   "id": "becc0a7a",
   "metadata": {
    "papermill": {
     "duration": 0.05444,
     "end_time": "2021-09-13T08:45:25.984257",
     "exception": false,
     "start_time": "2021-09-13T08:45:25.929817",
     "status": "completed"
    },
    "tags": []
   },
   "source": [
    "# New Dataset"
   ]
  },
  {
   "cell_type": "code",
   "execution_count": 21,
   "id": "ac21114c",
   "metadata": {
    "execution": {
     "iopub.execute_input": "2021-09-13T08:45:26.096661Z",
     "iopub.status.busy": "2021-09-13T08:45:26.095950Z",
     "iopub.status.idle": "2021-09-13T08:45:26.114195Z",
     "shell.execute_reply": "2021-09-13T08:45:26.113647Z",
     "shell.execute_reply.started": "2021-09-13T08:22:29.146822Z"
    },
    "papermill": {
     "duration": 0.075552,
     "end_time": "2021-09-13T08:45:26.114336",
     "exception": false,
     "start_time": "2021-09-13T08:45:26.038784",
     "status": "completed"
    },
    "tags": []
   },
   "outputs": [
    {
     "data": {
      "text/html": [
       "<div>\n",
       "<style scoped>\n",
       "    .dataframe tbody tr th:only-of-type {\n",
       "        vertical-align: middle;\n",
       "    }\n",
       "\n",
       "    .dataframe tbody tr th {\n",
       "        vertical-align: top;\n",
       "    }\n",
       "\n",
       "    .dataframe thead th {\n",
       "        text-align: right;\n",
       "    }\n",
       "</style>\n",
       "<table border=\"1\" class=\"dataframe\">\n",
       "  <thead>\n",
       "    <tr style=\"text-align: right;\">\n",
       "      <th></th>\n",
       "      <th>Age</th>\n",
       "      <th>Diabetes</th>\n",
       "      <th>BloodPressureProblems</th>\n",
       "      <th>AnyTransplants</th>\n",
       "      <th>AnyChronicDiseases</th>\n",
       "      <th>Height</th>\n",
       "      <th>Weight</th>\n",
       "      <th>KnownAllergies</th>\n",
       "      <th>HistoryOfCancerInFamily</th>\n",
       "      <th>NumberOfMajorSurgeries</th>\n",
       "      <th>...</th>\n",
       "      <th>AgeLabel_Teen</th>\n",
       "      <th>AgeLabel_Young</th>\n",
       "      <th>AgeLabel_Middle</th>\n",
       "      <th>AgeLabel_Old</th>\n",
       "      <th>AgeLabel_SuperOld</th>\n",
       "      <th>PremiumLabel_Low</th>\n",
       "      <th>PremiumLabel_Basic</th>\n",
       "      <th>PremiumLabel_Average</th>\n",
       "      <th>PremiumLabel_High</th>\n",
       "      <th>PremiumLabel_SuperHigh</th>\n",
       "    </tr>\n",
       "  </thead>\n",
       "  <tbody>\n",
       "    <tr>\n",
       "      <th>0</th>\n",
       "      <td>45</td>\n",
       "      <td>0</td>\n",
       "      <td>0</td>\n",
       "      <td>0</td>\n",
       "      <td>0</td>\n",
       "      <td>155</td>\n",
       "      <td>57</td>\n",
       "      <td>0</td>\n",
       "      <td>0</td>\n",
       "      <td>0</td>\n",
       "      <td>...</td>\n",
       "      <td>0</td>\n",
       "      <td>0</td>\n",
       "      <td>1</td>\n",
       "      <td>0</td>\n",
       "      <td>0</td>\n",
       "      <td>0</td>\n",
       "      <td>1</td>\n",
       "      <td>0</td>\n",
       "      <td>0</td>\n",
       "      <td>0</td>\n",
       "    </tr>\n",
       "    <tr>\n",
       "      <th>1</th>\n",
       "      <td>60</td>\n",
       "      <td>1</td>\n",
       "      <td>0</td>\n",
       "      <td>0</td>\n",
       "      <td>0</td>\n",
       "      <td>180</td>\n",
       "      <td>73</td>\n",
       "      <td>0</td>\n",
       "      <td>0</td>\n",
       "      <td>0</td>\n",
       "      <td>...</td>\n",
       "      <td>0</td>\n",
       "      <td>0</td>\n",
       "      <td>0</td>\n",
       "      <td>0</td>\n",
       "      <td>1</td>\n",
       "      <td>0</td>\n",
       "      <td>0</td>\n",
       "      <td>1</td>\n",
       "      <td>0</td>\n",
       "      <td>0</td>\n",
       "    </tr>\n",
       "    <tr>\n",
       "      <th>2</th>\n",
       "      <td>36</td>\n",
       "      <td>1</td>\n",
       "      <td>1</td>\n",
       "      <td>0</td>\n",
       "      <td>0</td>\n",
       "      <td>158</td>\n",
       "      <td>59</td>\n",
       "      <td>0</td>\n",
       "      <td>0</td>\n",
       "      <td>1</td>\n",
       "      <td>...</td>\n",
       "      <td>0</td>\n",
       "      <td>1</td>\n",
       "      <td>0</td>\n",
       "      <td>0</td>\n",
       "      <td>0</td>\n",
       "      <td>0</td>\n",
       "      <td>1</td>\n",
       "      <td>0</td>\n",
       "      <td>0</td>\n",
       "      <td>0</td>\n",
       "    </tr>\n",
       "    <tr>\n",
       "      <th>3</th>\n",
       "      <td>52</td>\n",
       "      <td>1</td>\n",
       "      <td>1</td>\n",
       "      <td>0</td>\n",
       "      <td>1</td>\n",
       "      <td>183</td>\n",
       "      <td>93</td>\n",
       "      <td>0</td>\n",
       "      <td>0</td>\n",
       "      <td>2</td>\n",
       "      <td>...</td>\n",
       "      <td>0</td>\n",
       "      <td>0</td>\n",
       "      <td>0</td>\n",
       "      <td>1</td>\n",
       "      <td>0</td>\n",
       "      <td>0</td>\n",
       "      <td>0</td>\n",
       "      <td>1</td>\n",
       "      <td>0</td>\n",
       "      <td>0</td>\n",
       "    </tr>\n",
       "    <tr>\n",
       "      <th>4</th>\n",
       "      <td>38</td>\n",
       "      <td>0</td>\n",
       "      <td>0</td>\n",
       "      <td>0</td>\n",
       "      <td>1</td>\n",
       "      <td>166</td>\n",
       "      <td>88</td>\n",
       "      <td>0</td>\n",
       "      <td>0</td>\n",
       "      <td>1</td>\n",
       "      <td>...</td>\n",
       "      <td>0</td>\n",
       "      <td>0</td>\n",
       "      <td>1</td>\n",
       "      <td>0</td>\n",
       "      <td>0</td>\n",
       "      <td>0</td>\n",
       "      <td>1</td>\n",
       "      <td>0</td>\n",
       "      <td>0</td>\n",
       "      <td>0</td>\n",
       "    </tr>\n",
       "  </tbody>\n",
       "</table>\n",
       "<p>5 rows × 21 columns</p>\n",
       "</div>"
      ],
      "text/plain": [
       "   Age  Diabetes  BloodPressureProblems  AnyTransplants  AnyChronicDiseases  \\\n",
       "0   45         0                      0               0                   0   \n",
       "1   60         1                      0               0                   0   \n",
       "2   36         1                      1               0                   0   \n",
       "3   52         1                      1               0                   1   \n",
       "4   38         0                      0               0                   1   \n",
       "\n",
       "   Height  Weight  KnownAllergies  HistoryOfCancerInFamily  \\\n",
       "0     155      57               0                        0   \n",
       "1     180      73               0                        0   \n",
       "2     158      59               0                        0   \n",
       "3     183      93               0                        0   \n",
       "4     166      88               0                        0   \n",
       "\n",
       "   NumberOfMajorSurgeries  ...  AgeLabel_Teen  AgeLabel_Young  \\\n",
       "0                       0  ...              0               0   \n",
       "1                       0  ...              0               0   \n",
       "2                       1  ...              0               1   \n",
       "3                       2  ...              0               0   \n",
       "4                       1  ...              0               0   \n",
       "\n",
       "   AgeLabel_Middle  AgeLabel_Old  AgeLabel_SuperOld  PremiumLabel_Low  \\\n",
       "0                1             0                  0                 0   \n",
       "1                0             0                  1                 0   \n",
       "2                0             0                  0                 0   \n",
       "3                0             1                  0                 0   \n",
       "4                1             0                  0                 0   \n",
       "\n",
       "   PremiumLabel_Basic  PremiumLabel_Average  PremiumLabel_High  \\\n",
       "0                   1                     0                  0   \n",
       "1                   0                     1                  0   \n",
       "2                   1                     0                  0   \n",
       "3                   0                     1                  0   \n",
       "4                   1                     0                  0   \n",
       "\n",
       "   PremiumLabel_SuperHigh  \n",
       "0                       0  \n",
       "1                       0  \n",
       "2                       0  \n",
       "3                       0  \n",
       "4                       0  \n",
       "\n",
       "[5 rows x 21 columns]"
      ]
     },
     "execution_count": 21,
     "metadata": {},
     "output_type": "execute_result"
    }
   ],
   "source": [
    "df.head()"
   ]
  },
  {
   "cell_type": "code",
   "execution_count": 22,
   "id": "a0eaf8a5",
   "metadata": {
    "execution": {
     "iopub.execute_input": "2021-09-13T08:45:26.230837Z",
     "iopub.status.busy": "2021-09-13T08:45:26.229823Z",
     "iopub.status.idle": "2021-09-13T08:45:26.234286Z",
     "shell.execute_reply": "2021-09-13T08:45:26.233731Z",
     "shell.execute_reply.started": "2021-09-13T08:22:29.170665Z"
    },
    "papermill": {
     "duration": 0.065538,
     "end_time": "2021-09-13T08:45:26.234432",
     "exception": false,
     "start_time": "2021-09-13T08:45:26.168894",
     "status": "completed"
    },
    "tags": []
   },
   "outputs": [
    {
     "data": {
      "text/plain": [
       "(986, 21)"
      ]
     },
     "execution_count": 22,
     "metadata": {},
     "output_type": "execute_result"
    }
   ],
   "source": [
    "df.shape"
   ]
  },
  {
   "cell_type": "markdown",
   "id": "fc3e12a3",
   "metadata": {
    "papermill": {
     "duration": 0.054307,
     "end_time": "2021-09-13T08:45:26.344190",
     "exception": false,
     "start_time": "2021-09-13T08:45:26.289883",
     "status": "completed"
    },
    "tags": []
   },
   "source": [
    "# Getting Features and Target datasets"
   ]
  },
  {
   "cell_type": "code",
   "execution_count": 23,
   "id": "3489e98b",
   "metadata": {
    "execution": {
     "iopub.execute_input": "2021-09-13T08:45:26.461093Z",
     "iopub.status.busy": "2021-09-13T08:45:26.459723Z",
     "iopub.status.idle": "2021-09-13T08:45:26.463062Z",
     "shell.execute_reply": "2021-09-13T08:45:26.462404Z",
     "shell.execute_reply.started": "2021-09-13T08:22:29.183689Z"
    },
    "papermill": {
     "duration": 0.064031,
     "end_time": "2021-09-13T08:45:26.463201",
     "exception": false,
     "start_time": "2021-09-13T08:45:26.399170",
     "status": "completed"
    },
    "tags": []
   },
   "outputs": [],
   "source": [
    "x=df.drop('PremiumPrice',axis=1)\n",
    "y=df['PremiumPrice']"
   ]
  },
  {
   "cell_type": "code",
   "execution_count": 24,
   "id": "34f0fce8",
   "metadata": {
    "execution": {
     "iopub.execute_input": "2021-09-13T08:45:26.580630Z",
     "iopub.status.busy": "2021-09-13T08:45:26.579706Z",
     "iopub.status.idle": "2021-09-13T08:45:26.585519Z",
     "shell.execute_reply": "2021-09-13T08:45:26.584931Z",
     "shell.execute_reply.started": "2021-09-13T08:27:46.597720Z"
    },
    "papermill": {
     "duration": 0.067334,
     "end_time": "2021-09-13T08:45:26.585697",
     "exception": false,
     "start_time": "2021-09-13T08:45:26.518363",
     "status": "completed"
    },
    "tags": []
   },
   "outputs": [
    {
     "data": {
      "text/plain": [
       "Index(['Age', 'Diabetes', 'BloodPressureProblems', 'AnyTransplants',\n",
       "       'AnyChronicDiseases', 'Height', 'Weight', 'KnownAllergies',\n",
       "       'HistoryOfCancerInFamily', 'NumberOfMajorSurgeries', 'AgeLabel_Teen',\n",
       "       'AgeLabel_Young', 'AgeLabel_Middle', 'AgeLabel_Old',\n",
       "       'AgeLabel_SuperOld', 'PremiumLabel_Low', 'PremiumLabel_Basic',\n",
       "       'PremiumLabel_Average', 'PremiumLabel_High', 'PremiumLabel_SuperHigh'],\n",
       "      dtype='object')"
      ]
     },
     "execution_count": 24,
     "metadata": {},
     "output_type": "execute_result"
    }
   ],
   "source": [
    "x.columns"
   ]
  },
  {
   "cell_type": "markdown",
   "id": "b3628c13",
   "metadata": {
    "papermill": {
     "duration": 0.054222,
     "end_time": "2021-09-13T08:45:26.694923",
     "exception": false,
     "start_time": "2021-09-13T08:45:26.640701",
     "status": "completed"
    },
    "tags": []
   },
   "source": [
    "### Scalling the dataset"
   ]
  },
  {
   "cell_type": "code",
   "execution_count": 60,
   "id": "712a7e2c",
   "metadata": {
    "execution": {
     "iopub.execute_input": "2021-09-13T08:45:26.808733Z",
     "iopub.status.busy": "2021-09-13T08:45:26.808046Z",
     "iopub.status.idle": "2021-09-13T08:45:26.928994Z",
     "shell.execute_reply": "2021-09-13T08:45:26.928298Z",
     "shell.execute_reply.started": "2021-09-13T08:22:34.795447Z"
    },
    "papermill": {
     "duration": 0.179574,
     "end_time": "2021-09-13T08:45:26.929143",
     "exception": false,
     "start_time": "2021-09-13T08:45:26.749569",
     "status": "completed"
    },
    "tags": []
   },
   "outputs": [],
   "source": [
    "from sklearn.preprocessing import StandardScaler\n",
    "sc=StandardScaler()\n",
    "xsc=sc.fit_transform(x)"
   ]
  },
  {
   "cell_type": "code",
   "execution_count": 61,
   "id": "c0a64403",
   "metadata": {
    "execution": {
     "iopub.execute_input": "2021-09-13T08:45:27.046982Z",
     "iopub.status.busy": "2021-09-13T08:45:27.046275Z",
     "iopub.status.idle": "2021-09-13T08:45:27.049568Z",
     "shell.execute_reply": "2021-09-13T08:45:27.049070Z",
     "shell.execute_reply.started": "2021-09-13T08:29:16.634270Z"
    },
    "papermill": {
     "duration": 0.063829,
     "end_time": "2021-09-13T08:45:27.049728",
     "exception": false,
     "start_time": "2021-09-13T08:45:26.985899",
     "status": "completed"
    },
    "tags": []
   },
   "outputs": [],
   "source": [
    "xsc=pd.DataFrame(xsc,columns=x.columns)"
   ]
  },
  {
   "cell_type": "code",
   "execution_count": 62,
   "id": "8ff7aa91",
   "metadata": {
    "execution": {
     "iopub.execute_input": "2021-09-13T08:45:27.165276Z",
     "iopub.status.busy": "2021-09-13T08:45:27.164552Z",
     "iopub.status.idle": "2021-09-13T08:45:27.677861Z",
     "shell.execute_reply": "2021-09-13T08:45:27.678389Z",
     "shell.execute_reply.started": "2021-09-13T08:33:27.237919Z"
    },
    "papermill": {
     "duration": 0.573542,
     "end_time": "2021-09-13T08:45:27.678571",
     "exception": false,
     "start_time": "2021-09-13T08:45:27.105029",
     "status": "completed"
    },
    "tags": []
   },
   "outputs": [],
   "source": [
    "from sklearn.feature_selection import mutual_info_regression\n",
    "mi_scores = mutual_info_regression(xsc,y)\n",
    "mi_scores = pd.Series(mi_scores, name=\"MI Scores\",index=xsc.columns)\n",
    "mi_scores = mi_scores.sort_values(ascending=False)"
   ]
  },
  {
   "cell_type": "code",
   "execution_count": 63,
   "id": "ca3bdee6",
   "metadata": {},
   "outputs": [
    {
     "data": {
      "text/plain": [
       "Age                        96.160993\n",
       "PremiumLabel_Basic         66.624274\n",
       "PremiumLabel_Average       58.983889\n",
       "PremiumLabel_Low           53.381180\n",
       "NumberOfMajorSurgeries     38.886209\n",
       "AgeLabel_Teen              36.630836\n",
       "PremiumLabel_High          29.200847\n",
       "PremiumLabel_SuperHigh     20.427570\n",
       "Weight                     20.397867\n",
       "AgeLabel_Middle            18.436770\n",
       "AnyChronicDiseases         17.949576\n",
       "AgeLabel_SuperOld          17.482907\n",
       "AnyTransplants             13.796310\n",
       "HistoryOfCancerInFamily    13.501977\n",
       "AgeLabel_Young             12.760972\n",
       "AgeLabel_Old               11.298234\n",
       "BloodPressureProblems       4.603066\n",
       "Diabetes                    3.191907\n",
       "KnownAllergies              0.976026\n",
       "Height                      0.000000\n",
       "Name: MI Scores, dtype: float64"
      ]
     },
     "execution_count": 63,
     "metadata": {},
     "output_type": "execute_result"
    }
   ],
   "source": [
    "mi_scores*100"
   ]
  },
  {
   "cell_type": "code",
   "execution_count": 77,
   "id": "1d41bf2d",
   "metadata": {},
   "outputs": [
    {
     "data": {
      "text/plain": [
       "Index(['Age', 'PremiumLabel_Basic', 'PremiumLabel_Average', 'PremiumLabel_Low',\n",
       "       'NumberOfMajorSurgeries', 'AgeLabel_Teen', 'PremiumLabel_High',\n",
       "       'PremiumLabel_SuperHigh', 'Weight', 'AgeLabel_Middle',\n",
       "       'AnyChronicDiseases', 'AgeLabel_SuperOld', 'AnyTransplants',\n",
       "       'HistoryOfCancerInFamily', 'AgeLabel_Young'],\n",
       "      dtype='object')"
      ]
     },
     "execution_count": 77,
     "metadata": {},
     "output_type": "execute_result"
    }
   ],
   "source": [
    "# feature selection with more than 10% importance.\n",
    "(mi_scores*100).head(15).index"
   ]
  },
  {
   "cell_type": "code",
   "execution_count": 78,
   "id": "c4ace7af",
   "metadata": {
    "execution": {
     "iopub.execute_input": "2021-09-13T08:45:27.799670Z",
     "iopub.status.busy": "2021-09-13T08:45:27.799024Z",
     "iopub.status.idle": "2021-09-13T08:45:27.801661Z",
     "shell.execute_reply": "2021-09-13T08:45:27.801044Z",
     "shell.execute_reply.started": "2021-09-13T08:33:40.999920Z"
    },
    "papermill": {
     "duration": 0.066883,
     "end_time": "2021-09-13T08:45:27.801795",
     "exception": false,
     "start_time": "2021-09-13T08:45:27.734912",
     "status": "completed"
    },
    "tags": []
   },
   "outputs": [],
   "source": [
    "fea=['Age', 'PremiumLabel_Basic', 'PremiumLabel_Average', 'PremiumLabel_Low',\n",
    "       'NumberOfMajorSurgeries', 'AgeLabel_Teen', 'PremiumLabel_High',\n",
    "       'Weight', 'AgeLabel_SuperOld', 'AgeLabel_Middle',\n",
    "       'PremiumLabel_SuperHigh', 'AgeLabel_Young', 'AgeLabel_Old',\n",
    "       'AnyChronicDiseases', 'AnyTransplants']\n",
    "xsc=xsc[fea]"
   ]
  },
  {
   "cell_type": "code",
   "execution_count": 79,
   "id": "3da178ad",
   "metadata": {
    "execution": {
     "iopub.execute_input": "2021-09-13T08:45:27.917383Z",
     "iopub.status.busy": "2021-09-13T08:45:27.916496Z",
     "iopub.status.idle": "2021-09-13T08:45:27.920700Z",
     "shell.execute_reply": "2021-09-13T08:45:27.920207Z",
     "shell.execute_reply.started": "2021-09-13T08:33:44.611519Z"
    },
    "papermill": {
     "duration": 0.063858,
     "end_time": "2021-09-13T08:45:27.920837",
     "exception": false,
     "start_time": "2021-09-13T08:45:27.856979",
     "status": "completed"
    },
    "tags": []
   },
   "outputs": [
    {
     "data": {
      "text/plain": [
       "(986,)"
      ]
     },
     "execution_count": 79,
     "metadata": {},
     "output_type": "execute_result"
    }
   ],
   "source": [
    "y.shape"
   ]
  },
  {
   "cell_type": "markdown",
   "id": "c0c1e937",
   "metadata": {
    "papermill": {
     "duration": 0.05656,
     "end_time": "2021-09-13T08:45:28.033315",
     "exception": false,
     "start_time": "2021-09-13T08:45:27.976755",
     "status": "completed"
    },
    "tags": []
   },
   "source": [
    "# Splitting into Test and Train datasets"
   ]
  },
  {
   "cell_type": "code",
   "execution_count": 80,
   "id": "116139cb",
   "metadata": {
    "execution": {
     "iopub.execute_input": "2021-09-13T08:45:28.150998Z",
     "iopub.status.busy": "2021-09-13T08:45:28.150277Z",
     "iopub.status.idle": "2021-09-13T08:45:28.152875Z",
     "shell.execute_reply": "2021-09-13T08:45:28.152198Z",
     "shell.execute_reply.started": "2021-09-13T08:33:48.630785Z"
    },
    "papermill": {
     "duration": 0.063196,
     "end_time": "2021-09-13T08:45:28.153017",
     "exception": false,
     "start_time": "2021-09-13T08:45:28.089821",
     "status": "completed"
    },
    "tags": []
   },
   "outputs": [],
   "source": [
    "from sklearn.model_selection import train_test_split"
   ]
  },
  {
   "cell_type": "markdown",
   "id": "fc81e910",
   "metadata": {
    "papermill": {
     "duration": 0.055477,
     "end_time": "2021-09-13T08:45:28.265200",
     "exception": false,
     "start_time": "2021-09-13T08:45:28.209723",
     "status": "completed"
    },
    "tags": []
   },
   "source": [
    "## SPLITTING dataset"
   ]
  },
  {
   "cell_type": "code",
   "execution_count": 81,
   "id": "d4f83871",
   "metadata": {
    "execution": {
     "iopub.execute_input": "2021-09-13T08:45:28.379592Z",
     "iopub.status.busy": "2021-09-13T08:45:28.378933Z",
     "iopub.status.idle": "2021-09-13T08:45:28.385859Z",
     "shell.execute_reply": "2021-09-13T08:45:28.385333Z",
     "shell.execute_reply.started": "2021-09-13T08:33:51.532145Z"
    },
    "papermill": {
     "duration": 0.065181,
     "end_time": "2021-09-13T08:45:28.386003",
     "exception": false,
     "start_time": "2021-09-13T08:45:28.320822",
     "status": "completed"
    },
    "tags": []
   },
   "outputs": [],
   "source": [
    "xtr,xte,ytr,yte=train_test_split(xsc,y,random_state=33,test_size=0.3)"
   ]
  },
  {
   "cell_type": "markdown",
   "id": "03995b42",
   "metadata": {
    "papermill": {
     "duration": 0.05598,
     "end_time": "2021-09-13T08:45:28.497651",
     "exception": false,
     "start_time": "2021-09-13T08:45:28.441671",
     "status": "completed"
    },
    "tags": []
   },
   "source": [
    "# Building ML model"
   ]
  },
  {
   "cell_type": "code",
   "execution_count": 82,
   "id": "49874ac1",
   "metadata": {
    "execution": {
     "iopub.execute_input": "2021-09-13T08:45:28.613668Z",
     "iopub.status.busy": "2021-09-13T08:45:28.612897Z",
     "iopub.status.idle": "2021-09-13T08:45:28.665327Z",
     "shell.execute_reply": "2021-09-13T08:45:28.664659Z",
     "shell.execute_reply.started": "2021-09-13T08:33:54.350678Z"
    },
    "papermill": {
     "duration": 0.112004,
     "end_time": "2021-09-13T08:45:28.665464",
     "exception": false,
     "start_time": "2021-09-13T08:45:28.553460",
     "status": "completed"
    },
    "tags": []
   },
   "outputs": [],
   "source": [
    "from sklearn.ensemble import RandomForestRegressor\n",
    "from sklearn.model_selection import GridSearchCV"
   ]
  },
  {
   "cell_type": "code",
   "execution_count": 83,
   "id": "7caab908",
   "metadata": {
    "execution": {
     "iopub.execute_input": "2021-09-13T08:45:28.780380Z",
     "iopub.status.busy": "2021-09-13T08:45:28.779368Z",
     "iopub.status.idle": "2021-09-13T08:45:28.786015Z",
     "shell.execute_reply": "2021-09-13T08:45:28.785338Z",
     "shell.execute_reply.started": "2021-09-13T08:41:57.705198Z"
    },
    "papermill": {
     "duration": 0.064954,
     "end_time": "2021-09-13T08:45:28.786152",
     "exception": false,
     "start_time": "2021-09-13T08:45:28.721198",
     "status": "completed"
    },
    "tags": []
   },
   "outputs": [],
   "source": [
    "reg=RandomForestRegressor(n_jobs=-1,verbose=2)\n",
    "param_grid={'n_estimators':[60,50,55],'criterion':['mse','mae'],'max_depth':[7],'min_samples_split':[3],'max_features':['auto']}\n",
    "gs=GridSearchCV(reg,param_grid=param_grid,cv=3,n_jobs=-1,verbose=1)"
   ]
  },
  {
   "cell_type": "code",
   "execution_count": 84,
   "id": "f0a930f9",
   "metadata": {
    "execution": {
     "iopub.execute_input": "2021-09-13T08:45:28.903341Z",
     "iopub.status.busy": "2021-09-13T08:45:28.902657Z",
     "iopub.status.idle": "2021-09-13T08:45:33.870866Z",
     "shell.execute_reply": "2021-09-13T08:45:33.871306Z",
     "shell.execute_reply.started": "2021-09-13T08:42:00.360022Z"
    },
    "papermill": {
     "duration": 5.029413,
     "end_time": "2021-09-13T08:45:33.871474",
     "exception": false,
     "start_time": "2021-09-13T08:45:28.842061",
     "status": "completed"
    },
    "tags": []
   },
   "outputs": [
    {
     "name": "stdout",
     "output_type": "stream",
     "text": [
      "Fitting 3 folds for each of 6 candidates, totalling 18 fits\n",
      "building tree 1 of 60building tree 2 of 60\n",
      "\n",
      "building tree 3 of 60building tree 4 of 60\n",
      "\n",
      "building tree 5 of 60\n",
      "building tree 6 of 60\n",
      "building tree 7 of 60\n",
      "building tree 8 of 60\n",
      "building tree 9 of 60building tree 10 of 60\n",
      "building tree 11 of 60\n",
      "\n",
      "building tree 12 of 60\n",
      "building tree 13 of 60\n",
      "building tree 14 of 60\n",
      "building tree 15 of 60\n",
      "building tree 16 of 60\n",
      "building tree 17 of 60building tree 18 of 60\n",
      "\n",
      "building tree 19 of 60\n",
      "building tree 20 of 60\n",
      "building tree 21 of 60building tree 22 of 60\n",
      "\n",
      "building tree 23 of 60\n",
      "building tree 24 of 60\n",
      "building tree 25 of 60\n",
      "building tree 26 of 60building tree 27 of 60\n",
      "\n",
      "building tree 28 of 60\n",
      "building tree 29 of 60\n",
      "building tree 30 of 60\n",
      "building tree 31 of 60\n",
      "building tree 32 of 60building tree 33 of 60\n",
      "\n",
      "building tree 34 of 60building tree 35 of 60\n",
      "\n",
      "building tree 36 of 60building tree 37 of 60\n",
      "\n",
      "building tree 38 of 60building tree 39 of 60\n",
      "\n",
      "building tree 40 of 60building tree 41 of 60\n",
      "\n",
      "building tree 42 of 60building tree 43 of 60\n",
      "\n",
      "building tree 44 of 60building tree 45 of 60building tree 46 of 60building tree 47 of 60\n",
      "\n",
      "\n",
      "\n",
      "building tree 48 of 60\n",
      "building tree 49 of 60\n",
      "building tree 50 of 60building tree 51 of 60\n",
      "\n",
      "building tree 52 of 60building tree 53 of 60\n",
      "\n",
      "building tree 54 of 60building tree 55 of 60\n",
      "\n",
      "building tree 56 of 60\n",
      "building tree 57 of 60\n",
      "building tree 58 of 60building tree 59 of 60\n",
      "\n",
      "building tree 60 of 60\n"
     ]
    },
    {
     "name": "stderr",
     "output_type": "stream",
     "text": [
      "[Parallel(n_jobs=-1)]: Using backend ThreadingBackend with 4 concurrent workers.\n",
      "[Parallel(n_jobs=-1)]: Done  33 tasks      | elapsed:    0.0s\n",
      "[Parallel(n_jobs=-1)]: Done  60 out of  60 | elapsed:    0.0s finished\n"
     ]
    },
    {
     "data": {
      "text/plain": [
       "GridSearchCV(cv=3, estimator=RandomForestRegressor(n_jobs=-1, verbose=2),\n",
       "             n_jobs=-1,\n",
       "             param_grid={'criterion': ['mse', 'mae'], 'max_depth': [7],\n",
       "                         'max_features': ['auto'], 'min_samples_split': [3],\n",
       "                         'n_estimators': [60, 50, 55]},\n",
       "             verbose=1)"
      ]
     },
     "execution_count": 84,
     "metadata": {},
     "output_type": "execute_result"
    }
   ],
   "source": [
    "gs.fit(xtr,ytr)"
   ]
  },
  {
   "cell_type": "code",
   "execution_count": 85,
   "id": "35c08257",
   "metadata": {
    "execution": {
     "iopub.execute_input": "2021-09-13T08:45:33.993878Z",
     "iopub.status.busy": "2021-09-13T08:45:33.993010Z",
     "iopub.status.idle": "2021-09-13T08:45:33.996209Z",
     "shell.execute_reply": "2021-09-13T08:45:33.996698Z",
     "shell.execute_reply.started": "2021-09-13T08:42:17.775955Z"
    },
    "papermill": {
     "duration": 0.067605,
     "end_time": "2021-09-13T08:45:33.996868",
     "exception": false,
     "start_time": "2021-09-13T08:45:33.929263",
     "status": "completed"
    },
    "tags": []
   },
   "outputs": [
    {
     "data": {
      "text/plain": [
       "{'criterion': 'mse',\n",
       " 'max_depth': 7,\n",
       " 'max_features': 'auto',\n",
       " 'min_samples_split': 3,\n",
       " 'n_estimators': 60}"
      ]
     },
     "execution_count": 85,
     "metadata": {},
     "output_type": "execute_result"
    }
   ],
   "source": [
    "gs.best_params_"
   ]
  },
  {
   "cell_type": "code",
   "execution_count": 86,
   "id": "19d6cd0f",
   "metadata": {
    "execution": {
     "iopub.execute_input": "2021-09-13T08:45:34.117295Z",
     "iopub.status.busy": "2021-09-13T08:45:34.116680Z",
     "iopub.status.idle": "2021-09-13T08:45:34.123332Z",
     "shell.execute_reply": "2021-09-13T08:45:34.122646Z",
     "shell.execute_reply.started": "2021-09-13T08:42:23.956336Z"
    },
    "papermill": {
     "duration": 0.068703,
     "end_time": "2021-09-13T08:45:34.123476",
     "exception": false,
     "start_time": "2021-09-13T08:45:34.054773",
     "status": "completed"
    },
    "tags": []
   },
   "outputs": [
    {
     "data": {
      "text/plain": [
       "0.9952017819080469"
      ]
     },
     "execution_count": 86,
     "metadata": {},
     "output_type": "execute_result"
    }
   ],
   "source": [
    "gs.best_score_"
   ]
  },
  {
   "cell_type": "code",
   "execution_count": 87,
   "id": "106a6930",
   "metadata": {
    "execution": {
     "iopub.execute_input": "2021-09-13T08:45:34.248199Z",
     "iopub.status.busy": "2021-09-13T08:45:34.247134Z",
     "iopub.status.idle": "2021-09-13T08:45:34.353674Z",
     "shell.execute_reply": "2021-09-13T08:45:34.353023Z",
     "shell.execute_reply.started": "2021-09-13T08:42:26.285857Z"
    },
    "papermill": {
     "duration": 0.17252,
     "end_time": "2021-09-13T08:45:34.353812",
     "exception": false,
     "start_time": "2021-09-13T08:45:34.181292",
     "status": "completed"
    },
    "tags": []
   },
   "outputs": [
    {
     "name": "stderr",
     "output_type": "stream",
     "text": [
      "[Parallel(n_jobs=4)]: Using backend ThreadingBackend with 4 concurrent workers.\n",
      "[Parallel(n_jobs=4)]: Done  33 tasks      | elapsed:    0.0s\n",
      "[Parallel(n_jobs=4)]: Done  60 out of  60 | elapsed:    0.0s finished\n"
     ]
    }
   ],
   "source": [
    "predicted_y=gs.predict(xte)"
   ]
  },
  {
   "cell_type": "markdown",
   "id": "0f80e4ff",
   "metadata": {
    "papermill": {
     "duration": 0.057374,
     "end_time": "2021-09-13T08:45:34.469248",
     "exception": false,
     "start_time": "2021-09-13T08:45:34.411874",
     "status": "completed"
    },
    "tags": []
   },
   "source": [
    "# Testing the accuracy of model"
   ]
  },
  {
   "cell_type": "code",
   "execution_count": 88,
   "id": "238b42f0",
   "metadata": {
    "execution": {
     "iopub.execute_input": "2021-09-13T08:45:34.589912Z",
     "iopub.status.busy": "2021-09-13T08:45:34.589253Z",
     "iopub.status.idle": "2021-09-13T08:45:34.592392Z",
     "shell.execute_reply": "2021-09-13T08:45:34.591790Z",
     "shell.execute_reply.started": "2021-09-13T08:39:04.773262Z"
    },
    "papermill": {
     "duration": 0.065554,
     "end_time": "2021-09-13T08:45:34.592530",
     "exception": false,
     "start_time": "2021-09-13T08:45:34.526976",
     "status": "completed"
    },
    "tags": []
   },
   "outputs": [],
   "source": [
    "from sklearn.metrics import r2_score"
   ]
  },
  {
   "cell_type": "code",
   "execution_count": 89,
   "id": "d3b4b061",
   "metadata": {
    "execution": {
     "iopub.execute_input": "2021-09-13T08:45:34.715125Z",
     "iopub.status.busy": "2021-09-13T08:45:34.714211Z",
     "iopub.status.idle": "2021-09-13T08:45:34.717880Z",
     "shell.execute_reply": "2021-09-13T08:45:34.718332Z",
     "shell.execute_reply.started": "2021-09-13T08:42:30.618743Z"
    },
    "papermill": {
     "duration": 0.067768,
     "end_time": "2021-09-13T08:45:34.718507",
     "exception": false,
     "start_time": "2021-09-13T08:45:34.650739",
     "status": "completed"
    },
    "tags": []
   },
   "outputs": [
    {
     "data": {
      "text/plain": [
       "0.9926527801670557"
      ]
     },
     "execution_count": 89,
     "metadata": {},
     "output_type": "execute_result"
    }
   ],
   "source": [
    "r2_score(yte,predicted_y)"
   ]
  },
  {
   "cell_type": "markdown",
   "id": "e2c8fa84",
   "metadata": {
    "papermill": {
     "duration": 0.06401,
     "end_time": "2021-09-13T08:45:34.841169",
     "exception": false,
     "start_time": "2021-09-13T08:45:34.777159",
     "status": "completed"
    },
    "tags": []
   },
   "source": [
    "# 99.4 % Accuracy"
   ]
  }
 ],
 "metadata": {
  "kernelspec": {
   "display_name": "Python 3 (ipykernel)",
   "language": "python",
   "name": "python3"
  },
  "language_info": {
   "codemirror_mode": {
    "name": "ipython",
    "version": 3
   },
   "file_extension": ".py",
   "mimetype": "text/x-python",
   "name": "python",
   "nbconvert_exporter": "python",
   "pygments_lexer": "ipython3",
   "version": "3.9.7"
  },
  "papermill": {
   "default_parameters": {},
   "duration": 26.802502,
   "end_time": "2021-09-13T08:45:36.470051",
   "environment_variables": {},
   "exception": null,
   "input_path": "__notebook__.ipynb",
   "output_path": "__notebook__.ipynb",
   "parameters": {},
   "start_time": "2021-09-13T08:45:09.667549",
   "version": "2.3.3"
  }
 },
 "nbformat": 4,
 "nbformat_minor": 5
}
